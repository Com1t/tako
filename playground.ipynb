{
 "cells": [
  {
   "cell_type": "code",
   "execution_count": 12,
   "id": "14ddc13b",
   "metadata": {},
   "outputs": [
    {
     "name": "stdout",
     "output_type": "stream",
     "text": [
      "原來的df\n",
      "Empty DataFrame\n",
      "Columns: [name, math, chinese]\n",
      "Index: []\n",
      "=================================\n",
      "新增一筆資料\n",
      "    name math chinese  connectivity   cpu\n",
      "0  Henry   60     NaN          60.0  30.0\n"
     ]
    }
   ],
   "source": [
    "import pandas as pd\n",
    "\n",
    "df = pd.DataFrame(columns=[\"name\", \"math\", \"chinese\"])\n",
    "print(\"原來的df\")\n",
    "print(df)\n",
    " \n",
    "print(\"=================================\")\n",
    " \n",
    "new_df = df.append({\n",
    "    \"name\": \"Henry\",\n",
    "    \"math\": 60,\n",
    "    \"cpu\": 30,\n",
    "    \"connectivity\": 60\n",
    "}, ignore_index=True)\n",
    " \n",
    "print(\"新增一筆資料\")\n",
    "print(new_df)"
   ]
  },
  {
   "cell_type": "code",
   "execution_count": 15,
   "id": "4459d39c",
   "metadata": {},
   "outputs": [
    {
     "name": "stdout",
     "output_type": "stream",
     "text": [
      "0\n",
      "1\n"
     ]
    }
   ],
   "source": [
    "context = []\n",
    "print(len(context))\n",
    "context.append(1)\n",
    "print(len(context))"
   ]
  },
  {
   "cell_type": "code",
   "execution_count": 52,
   "id": "13761cfc",
   "metadata": {},
   "outputs": [
    {
     "name": "stdout",
     "output_type": "stream",
     "text": [
      "2022-05-22T14:50:00\n"
     ]
    }
   ],
   "source": [
    "import numpy as np\n",
    "\n",
    "now = np.datetime64('now') # timestamp right now \n",
    "print(now)"
   ]
  },
  {
   "cell_type": "code",
   "execution_count": 53,
   "id": "d1ddf657",
   "metadata": {},
   "outputs": [
    {
     "name": "stdout",
     "output_type": "stream",
     "text": [
      "True\n"
     ]
    }
   ],
   "source": [
    "past = now - np.timedelta64(1,'m')\n",
    "now = np.datetime64('now')\n",
    "\n",
    "\n",
    "print((now - past) > np.timedelta64(1,'m'))"
   ]
  },
  {
   "cell_type": "code",
   "execution_count": 62,
   "id": "2f7cced4",
   "metadata": {},
   "outputs": [],
   "source": [
    "dtypes = np.dtype(\n",
    "    [\n",
    "        (\"ip\", str),\n",
    "        (\"port\", int),\n",
    "        (\"status\", str),\n",
    "        (\"heartbeat\", np.datetime64),\n",
    "    ]\n",
    ")\n",
    "# client database\n",
    "df = pd.DataFrame(np.empty(0, dtype=dtypes))\n",
    "\n",
    "for i in range(10):\n",
    "    recv_df = pd.DataFrame({\n",
    "        \"ip\": \"127.0.0.1\",\n",
    "        \"port\": 12314 + i,\n",
    "        \"cpu\": 30, \n",
    "        \"gradient_norm\": 0.0,\n",
    "        \"data amount\": 0,\n",
    "        \"connectivity\": 60\n",
    "    }, index=[0])\n",
    "    df = df.append(recv_df, ignore_index=True)"
   ]
  },
  {
   "cell_type": "code",
   "execution_count": 69,
   "id": "7d1a0884",
   "metadata": {},
   "outputs": [
    {
     "name": "stdout",
     "output_type": "stream",
     "text": [
      "          ip   port status heartbeat   cpu  gradient_norm  data amount  \\\n",
      "0  127.0.0.1  12314    NaN       NaT  30.0            0.0          0.0   \n",
      "1  127.0.0.1  12315    NaN       NaT  30.0            0.0          0.0   \n",
      "2  127.0.0.1  12316    NaN       NaT  30.0            0.0          0.0   \n",
      "3  127.0.0.1  12317    NaN       NaT  30.0            0.0          0.0   \n",
      "4  127.0.0.1  12318    NaN       NaT  30.0            0.0          0.0   \n",
      "5  127.0.0.1  12319    NaN       NaT  30.0            0.0          0.0   \n",
      "6  127.0.0.1  12320    NaN       NaT  30.0            0.0          0.0   \n",
      "7  127.0.0.1  12321    NaN       NaT  30.0            0.0          0.0   \n",
      "8  127.0.0.1  12322    NaN       NaT  30.0            0.0          0.0   \n",
      "9  127.0.0.1  12323    NaN       NaT  30.0            0.0          0.0   \n",
      "\n",
      "   connectivity  \n",
      "0          60.0  \n",
      "1          60.0  \n",
      "2          60.0  \n",
      "3          60.0  \n",
      "4          60.0  \n",
      "5          60.0  \n",
      "6          60.0  \n",
      "7          60.0  \n",
      "8          60.0  \n",
      "9          60.0  \n",
      "          ip   port             status heartbeat   cpu  gradient_norm  \\\n",
      "0  127.0.0.1  12314  selected training       NaT  30.0            0.0   \n",
      "1  127.0.0.1  12315  selected training       NaT  30.0            0.0   \n",
      "2  127.0.0.1  12316                NaN       NaT  30.0            0.0   \n",
      "3  127.0.0.1  12317  selected training       NaT  30.0            0.0   \n",
      "4  127.0.0.1  12318                NaN       NaT  30.0            0.0   \n",
      "5  127.0.0.1  12319  selected training       NaT  30.0            0.0   \n",
      "6  127.0.0.1  12320  selected training       NaT  30.0            0.0   \n",
      "7  127.0.0.1  12321                NaN       NaT  30.0            0.0   \n",
      "8  127.0.0.1  12322                NaN       NaT  30.0            0.0   \n",
      "9  127.0.0.1  12323                NaN       NaT  30.0            0.0   \n",
      "\n",
      "   data amount  connectivity  \n",
      "0          0.0          60.0  \n",
      "1          0.0          60.0  \n",
      "2          0.0          60.0  \n",
      "3          0.0          60.0  \n",
      "4          0.0          60.0  \n",
      "5          0.0          60.0  \n",
      "6          0.0          60.0  \n",
      "7          0.0          60.0  \n",
      "8          0.0          60.0  \n",
      "9          0.0          60.0  \n"
     ]
    }
   ],
   "source": [
    "print(df)\n",
    "df.iloc[df.sample(frac = 0.5).index,df.columns.get_loc('status')] = 'selected training'\n",
    "print(df)"
   ]
  },
  {
   "cell_type": "code",
   "execution_count": 73,
   "id": "b7ae4cc6",
   "metadata": {},
   "outputs": [
    {
     "name": "stdout",
     "output_type": "stream",
     "text": [
      "          ip   port             status heartbeat   cpu  gradient_norm  \\\n",
      "0  127.0.0.1  12314  selected training       NaT  30.0            0.0   \n",
      "1  127.0.0.1  12315  selected training       NaT  30.0            0.0   \n",
      "2  127.0.0.1  12316                NaN       NaT  30.0            0.0   \n",
      "3  127.0.0.1  12317  selected training       NaT  30.0            0.0   \n",
      "4  127.0.0.1  12318                NaN       NaT  30.0            0.0   \n",
      "5  127.0.0.1  12319  selected training       NaT  30.0            0.0   \n",
      "6  127.0.0.1  12320  selected training       NaT  30.0            0.0   \n",
      "7  127.0.0.1  12321                NaN       NaT  30.0            0.0   \n",
      "8  127.0.0.1  12322                NaN       NaT  30.0            0.0   \n",
      "9  127.0.0.1  12323                NaN       NaT  30.0            0.0   \n",
      "\n",
      "   data amount  connectivity  \n",
      "0          0.0          60.0  \n",
      "1          0.0          60.0  \n",
      "2          0.0          60.0  \n",
      "3          0.0          60.0  \n",
      "4          0.0          60.0  \n",
      "5          0.0          60.0  \n",
      "6          0.0          60.0  \n",
      "7          0.0          60.0  \n",
      "8          0.0          60.0  \n",
      "9          0.0          60.0  \n",
      "          ip   port             status heartbeat   cpu  gradient_norm  \\\n",
      "0  127.0.0.1  12314           training       NaT  30.0            0.0   \n",
      "1  127.0.0.1  12315           training       NaT  30.0            0.0   \n",
      "2  127.0.0.1  12316                NaN       NaT  30.0            0.0   \n",
      "3  127.0.0.1  12317           training       NaT  30.0            0.0   \n",
      "4  127.0.0.1  12318           training       NaT  30.0            0.0   \n",
      "5  127.0.0.1  12319  selected training       NaT  30.0            0.0   \n",
      "6  127.0.0.1  12320  selected training       NaT  30.0            0.0   \n",
      "7  127.0.0.1  12321                NaN       NaT  30.0            0.0   \n",
      "8  127.0.0.1  12322                NaN       NaT  30.0            0.0   \n",
      "9  127.0.0.1  12323           training       NaT  30.0            0.0   \n",
      "\n",
      "   data amount  connectivity  \n",
      "0          0.0          60.0  \n",
      "1          0.0          60.0  \n",
      "2          0.0          60.0  \n",
      "3          0.0          60.0  \n",
      "4          0.0          60.0  \n",
      "5          0.0          60.0  \n",
      "6          0.0          60.0  \n",
      "7          0.0          60.0  \n",
      "8          0.0          60.0  \n",
      "9          0.0          60.0  \n"
     ]
    }
   ],
   "source": [
    "print(df)\n",
    "df.iloc[df.sample(frac = 0.5).index,df.columns.get_loc('status')] = 'training'\n",
    "print(df)"
   ]
  },
  {
   "cell_type": "code",
   "execution_count": 78,
   "id": "8064a928",
   "metadata": {},
   "outputs": [
    {
     "name": "stdout",
     "output_type": "stream",
     "text": [
      "          ip   port             status heartbeat   cpu  gradient_norm  \\\n",
      "0  127.0.0.1  12314           training       NaT  30.0            0.0   \n",
      "1  127.0.0.1  12315           training       NaT  30.0            0.0   \n",
      "3  127.0.0.1  12317           training       NaT  30.0            0.0   \n",
      "4  127.0.0.1  12318           training       NaT  30.0            0.0   \n",
      "5  127.0.0.1  12319  selected training       NaT  30.0            0.0   \n",
      "6  127.0.0.1  12320  selected training       NaT  30.0            0.0   \n",
      "9  127.0.0.1  12323           training       NaT  30.0            0.0   \n",
      "\n",
      "   data amount  connectivity  \n",
      "0          0.0          60.0  \n",
      "1          0.0          60.0  \n",
      "3          0.0          60.0  \n",
      "4          0.0          60.0  \n",
      "5          0.0          60.0  \n",
      "6          0.0          60.0  \n",
      "9          0.0          60.0  \n"
     ]
    }
   ],
   "source": [
    "print()"
   ]
  },
  {
   "cell_type": "code",
   "execution_count": 80,
   "id": "ea8339b6",
   "metadata": {},
   "outputs": [
    {
     "name": "stdout",
     "output_type": "stream",
     "text": [
      "Removed Element: 7\n",
      "Updated List: [2, 3, 5]\n"
     ]
    }
   ],
   "source": [
    "# create a list of prime numbers\n",
    "prime_numbers = [2, 3, 5, 7]\n",
    "\n",
    "# remove the element at index 2\n",
    "removed_element = prime_numbers.pop()\n",
    "\n",
    "print('Removed Element:', removed_element)\n",
    "print('Updated List:', prime_numbers)\n",
    "\n",
    "# Output: \n",
    "# Removed Element: 5\n",
    "# Updated List: [2, 3, 7]"
   ]
  },
  {
   "cell_type": "code",
   "execution_count": 81,
   "id": "a9c425cb",
   "metadata": {},
   "outputs": [
    {
     "name": "stdout",
     "output_type": "stream",
     "text": [
      "<class 'bool'>\n"
     ]
    }
   ],
   "source": [
    "print(type(False))"
   ]
  },
  {
   "cell_type": "code",
   "execution_count": null,
   "id": "59fd751a",
   "metadata": {},
   "outputs": [],
   "source": []
  }
 ],
 "metadata": {
  "kernelspec": {
   "display_name": "Python 3 (ipykernel)",
   "language": "python",
   "name": "python3"
  },
  "language_info": {
   "codemirror_mode": {
    "name": "ipython",
    "version": 3
   },
   "file_extension": ".py",
   "mimetype": "text/x-python",
   "name": "python",
   "nbconvert_exporter": "python",
   "pygments_lexer": "ipython3",
   "version": "3.8.12"
  }
 },
 "nbformat": 4,
 "nbformat_minor": 5
}
