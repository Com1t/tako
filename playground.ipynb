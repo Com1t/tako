{
 "cells": [
  {
   "cell_type": "code",
   "execution_count": 12,
   "id": "4c347d66",
   "metadata": {},
   "outputs": [
    {
     "name": "stdout",
     "output_type": "stream",
     "text": [
      "原來的df\n",
      "Empty DataFrame\n",
      "Columns: [name, math, chinese]\n",
      "Index: []\n",
      "=================================\n",
      "新增一筆資料\n",
      "    name math chinese  connectivity   cpu\n",
      "0  Henry   60     NaN          60.0  30.0\n"
     ]
    }
   ],
   "source": [
    "import pandas as pd\n",
    "\n",
    "df = pd.DataFrame(columns=[\"name\", \"math\", \"chinese\"])\n",
    "print(\"原來的df\")\n",
    "print(df)\n",
    " \n",
    "print(\"=================================\")\n",
    " \n",
    "new_df = df.append({\n",
    "    \"name\": \"Henry\",\n",
    "    \"math\": 60,\n",
    "    \"cpu\": 30,\n",
    "    \"connectivity\": 60\n",
    "}, ignore_index=True)\n",
    " \n",
    "print(\"新增一筆資料\")\n",
    "print(new_df)"
   ]
  },
  {
   "cell_type": "code",
   "execution_count": 15,
   "id": "40a5505e",
   "metadata": {},
   "outputs": [
    {
     "name": "stdout",
     "output_type": "stream",
     "text": [
      "0\n",
      "1\n"
     ]
    }
   ],
   "source": [
    "context = []\n",
    "print(len(context))\n",
    "context.append(1)\n",
    "print(len(context))"
   ]
  },
  {
   "cell_type": "code",
   "execution_count": 14,
   "id": "e0ac7b05",
   "metadata": {},
   "outputs": [
    {
     "name": "stdout",
     "output_type": "stream",
     "text": [
      "0\n"
     ]
    }
   ],
   "source": []
  },
  {
   "cell_type": "code",
   "execution_count": null,
   "id": "651c2792",
   "metadata": {},
   "outputs": [],
   "source": []
  }
 ],
 "metadata": {
  "kernelspec": {
   "display_name": "Python 3 (ipykernel)",
   "language": "python",
   "name": "python3"
  },
  "language_info": {
   "codemirror_mode": {
    "name": "ipython",
    "version": 3
   },
   "file_extension": ".py",
   "mimetype": "text/x-python",
   "name": "python",
   "nbconvert_exporter": "python",
   "pygments_lexer": "ipython3",
   "version": "3.8.12"
  }
 },
 "nbformat": 4,
 "nbformat_minor": 5
}
